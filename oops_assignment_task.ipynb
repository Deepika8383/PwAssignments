{
 "cells": [
  {
   "cell_type": "markdown",
   "metadata": {},
   "source": [
    "**Q1, Create a vehicle class with an init method having instance variables as name_of_vehicle, max_speed\n",
    "and average_of_vehicle.**"
   ]
  },
  {
   "cell_type": "code",
   "execution_count": 9,
   "metadata": {},
   "outputs": [
    {
     "data": {
      "text/plain": [
       "'farari'"
      ]
     },
     "execution_count": 9,
     "metadata": {},
     "output_type": "execute_result"
    }
   ],
   "source": [
    "class vehicle:\n",
    "    def __init__(self, name_of_vehicle, max_speed, average_of_vehicle):\n",
    "        self.name_of_vehicle=name_of_vehicle\n",
    "        self.max_speed=max_speed\n",
    "        self.average_of_vehicle=average_of_vehicle\n",
    "\n",
    "vehicle1= vehicle(\"farari\",200, 50)"
   ]
  },
  {
   "cell_type": "markdown",
   "metadata": {},
   "source": [
    "**Q2. Create a child class car from the vehicle class created in Que 1, which will inherit the vehicle class.\n",
    "Create a method named seating_capacity which takes capacity as an argument and returns the name of\n",
    "the vehicle and its seating capacity.**"
   ]
  },
  {
   "cell_type": "code",
   "execution_count": 11,
   "metadata": {},
   "outputs": [
    {
     "data": {
      "text/plain": [
       "('ola', 5)"
      ]
     },
     "execution_count": 11,
     "metadata": {},
     "output_type": "execute_result"
    }
   ],
   "source": [
    "class car(vehicle):\n",
    "\n",
    "    def __init__(self,name, max_speed, average):\n",
    "        super().__init__(name,max_speed,average)\n",
    "    def seating_capacity(self, seatingCapacity):\n",
    "        self.seatingCapacity=seatingCapacity\n",
    "        return self.name_of_vehicle, self.seatingCapacity\n",
    "\n",
    "car1=car(\"ola\",250,100)\n",
    "car1.seating_capacity(5)"
   ]
  },
  {
   "cell_type": "markdown",
   "metadata": {},
   "source": [
    "**Q3. What is multiple inheritance? Write a python code to demonstrate multiple inheritance.**"
   ]
  },
  {
   "cell_type": "markdown",
   "metadata": {},
   "source": [
    "There ar 5 different type of inheritance available:\n",
    "\n",
    "1.single inheritance: when one class inherit only one other class.\n",
    "\n",
    "2.multilevel inheritance: When a class inherits from another class that is itself inherited from another class.\n",
    "\n",
    "3.multiple inheritance: When a class inherits from two or more other classes.\n",
    "\n",
    "4.hierarchical inheritance: When there is a single parent class and multiple child classes.\n",
    " \n",
    "5.hybrid inheritance: When a class inherits from multiple classes in a way that is not a single hierarchy."
   ]
  },
  {
   "cell_type": "code",
   "execution_count": 20,
   "metadata": {},
   "outputs": [
    {
     "name": "stdout",
     "output_type": "stream",
     "text": [
      "welcome of child 1 2 class\n",
      "welcome of child 1 class\n",
      "welcome of child 1 2 class\n"
     ]
    }
   ],
   "source": [
    "#demonstaration of multiple inheritance\n",
    "class parent:\n",
    "    def introP(self):\n",
    "        print(\"welcome of parent class\")\n",
    "\n",
    "class child1(parent):\n",
    "    def introC1(self):\n",
    "        print(\"welcome of child 1 class\")\n",
    "class child2(parent):\n",
    "    def introC2(self):\n",
    "        print(\"welcome of child 2 class\")\n",
    "    \n",
    "class child12(child1,child2):\n",
    "    def introC12(self):\n",
    "        print(\"welcome of child 1 2 class\")\n",
    "\n",
    "obj=child12()\n",
    "obj.introC12()\n",
    "obj.introC1()\n",
    "obj.introC12()"
   ]
  },
  {
   "cell_type": "markdown",
   "metadata": {},
   "source": [
    "**Q4. What are getter and setter in python? Create a class and create a getter and a setter method in this\n",
    "class.**"
   ]
  },
  {
   "cell_type": "markdown",
   "metadata": {},
   "source": [
    "GETTERS: getters are the funtion which is used to get some value or info.\n",
    "\n",
    "SETTERS: setters are the funtion which is used to set value or give info."
   ]
  },
  {
   "cell_type": "code",
   "execution_count": 21,
   "metadata": {},
   "outputs": [
    {
     "name": "stdout",
     "output_type": "stream",
     "text": [
      "(4, 5)\n"
     ]
    }
   ],
   "source": [
    "class demo:\n",
    "    a=0\n",
    "    b=0\n",
    "    def setters(self, a, b):\n",
    "        self.a=a\n",
    "        self.b=b\n",
    "    def getters(self):\n",
    "        return self.a, self.b\n",
    "    \n",
    "obj=demo()\n",
    "obj.setters(4,5)\n",
    "print(obj.getters())"
   ]
  },
  {
   "cell_type": "markdown",
   "metadata": {},
   "source": [
    "**Q5.What is method overriding in python? Write a python code to demonstrate method overriding.**"
   ]
  },
  {
   "cell_type": "markdown",
   "metadata": {},
   "source": [
    "Method overriding is a concept in object-oriented programming (OOP) that allows a subclass to provide a different implementation of a method that is already defined in its parent class. "
   ]
  },
  {
   "cell_type": "code",
   "execution_count": 24,
   "metadata": {},
   "outputs": [
    {
     "name": "stdout",
     "output_type": "stream",
     "text": [
      "welcome to class child of parent1 class\n"
     ]
    }
   ],
   "source": [
    "class parent1:\n",
    "    def welcomeFun(self):\n",
    "        print(\" welcome to parent class\")\n",
    "\n",
    "class child(parent1):\n",
    "    def welcomeFun(self):\n",
    "        print(\"welcome to class child of parent1 class\")\n",
    "\n",
    "obje=child()\n",
    "obje.welcomeFun()"
   ]
  }
 ],
 "metadata": {
  "kernelspec": {
   "display_name": "Python 3",
   "language": "python",
   "name": "python3"
  },
  "language_info": {
   "codemirror_mode": {
    "name": "ipython",
    "version": 3
   },
   "file_extension": ".py",
   "mimetype": "text/x-python",
   "name": "python",
   "nbconvert_exporter": "python",
   "pygments_lexer": "ipython3",
   "version": "3.11.3"
  },
  "orig_nbformat": 4
 },
 "nbformat": 4,
 "nbformat_minor": 2
}
