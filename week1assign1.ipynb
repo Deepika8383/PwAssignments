{
 "cells": [
  {
   "cell_type": "markdown",
   "id": "332f3add",
   "metadata": {},
   "source": [
    "Q1. Create one variable containing following type of data:"
   ]
  },
  {
   "cell_type": "code",
   "execution_count": 2,
   "id": "e6669948",
   "metadata": {},
   "outputs": [
    {
     "name": "stdout",
     "output_type": "stream",
     "text": [
      "String:Deepika Jain | List:[1, 2, 3, 4, 5] | Float: 3.14 | Tuple: (1, 2, 3, 4)\n"
     ]
    }
   ],
   "source": [
    "# (i) string\n",
    "s=\"Deepika Jain\"\n",
    "# (ii) list\n",
    "l=[1,2,3,4,5]\n",
    "# (iii) float\n",
    "fl=3.14\n",
    "# (iv) tuple\n",
    "tu=(1,2,3,4)\n",
    "print(f\"String:{s} | List:{ l} | Float: {fl} | Tuple: {tu}\")"
   ]
  },
  {
   "cell_type": "markdown",
   "id": "de6f5ae9",
   "metadata": {},
   "source": [
    "Q2. Given are some following variables containing data:\n",
    "What will be the data type of the given variable."
   ]
  },
  {
   "cell_type": "code",
   "execution_count": 3,
   "id": "24f54b0d",
   "metadata": {},
   "outputs": [
    {
     "name": "stdout",
     "output_type": "stream",
     "text": [
      " Data type of:-> var1: <class 'str'> | var2: <class 'str'> | var3: <class 'list'> | var4: <class 'float'>\n"
     ]
    }
   ],
   "source": [
    "var1 = ''\n",
    "var2 = '[ DS , ML , Python]'\n",
    "var3 = [ 'DS' , 'ML' , 'Python' ]\n",
    "var4 = 1.\n",
    "print(f\" Data type of:-> var1: {type(var1)} | var2: {type(var2)} | var3: {type(var3)} | var4: {type(var4)}\")"
   ]
  },
  {
   "cell_type": "markdown",
   "id": "f975ee7a",
   "metadata": {},
   "source": [
    "Q3. Explain the use of the following operators using an example:"
   ]
  },
  {
   "cell_type": "code",
   "execution_count": 4,
   "id": "a360adac",
   "metadata": {},
   "outputs": [
    {
     "name": "stdout",
     "output_type": "stream",
     "text": [
      "divide example:-> when we divide 5 by 2, the answer will bw 2.5\n",
      "Reminder example:-> what will the remainder when 5 divide by 2 1\n",
      "when we want only integer value 2\n",
      "Power of:-> 5 raise to power 2 25\n"
     ]
    }
   ],
   "source": [
    "# (i) / :-> it is used to divide floating type \n",
    "print(\"divide example:-> when we divide 5 by 2, the answer will bw\", 5/2)\n",
    "# (ii) %\n",
    "print(\"Reminder example:-> what will the remainder when 5 divide by 2\", 5%2)\n",
    "# (iii) //\n",
    "print(\"when we want only integer value\",5//2)\n",
    "# (iv) **\n",
    "print(\"Power of:-> 5 raise to power 2\",5**2)"
   ]
  },
  {
   "cell_type": "markdown",
   "id": "58457ff4",
   "metadata": {},
   "source": [
    "Q4. Create a list of length 10 of your choice containing multiple types of data. Using for loop print the element and its data type."
   ]
  },
  {
   "cell_type": "code",
   "execution_count": 5,
   "id": "f2fb2d4d",
   "metadata": {},
   "outputs": [
    {
     "name": "stdout",
     "output_type": "stream",
     "text": [
      "element 1 Type:  <class 'int'>\n",
      "element True Type:  <class 'bool'>\n",
      "element 6.2 Type:  <class 'float'>\n",
      "element False Type:  <class 'bool'>\n",
      "element Deepika Type:  <class 'str'>\n",
      "element c Type:  <class 'str'>\n"
     ]
    }
   ],
   "source": [
    "li=[1,True, 6.2, False,\"Deepika\", 'c']\n",
    "for i in li:\n",
    "    print(\"element\", i, \"Type: \", type(i))"
   ]
  },
  {
   "cell_type": "markdown",
   "id": "2d86ca8f",
   "metadata": {},
   "source": [
    "Q5. Using a while loop, verify if the number A is purely divisible by number B and if so then how many times it can be divisible."
   ]
  },
  {
   "cell_type": "code",
   "execution_count": 6,
   "id": "7ab34c2f",
   "metadata": {},
   "outputs": [
    {
     "name": "stdout",
     "output_type": "stream",
     "text": [
      "Enter a divident10\n",
      "enter a divisor2\n",
      "10 is divisible by 2 and the quotient is 5.\n"
     ]
    }
   ],
   "source": [
    "A = int(input(\"Enter a divident\"))\n",
    "B = int(input(\"enter a divisor\"))\n",
    "temp=A\n",
    "count = 0\n",
    "while A >= B:\n",
    "    A -= B  \n",
    "    count += 1\n",
    "if A == 0:\n",
    "    print(f\"{temp } is divisible by {B} and the quotient is {count }.\")\n",
    "else:\n",
    "    print(f\"{temp} is not divisible by {B}.\")\n"
   ]
  },
  {
   "cell_type": "markdown",
   "id": "21a9a0c3",
   "metadata": {},
   "source": [
    "Q6. Create a list containing 25 int type data. Using for loop and if-else condition print if the element is divisible by 3 or not."
   ]
  },
  {
   "cell_type": "code",
   "execution_count": 7,
   "id": "25afb8c3",
   "metadata": {},
   "outputs": [
    {
     "name": "stdout",
     "output_type": "stream",
     "text": [
      "82 is divisible by 3\n",
      "15 is not divisible by 3\n",
      "4 is divisible by 3\n",
      "95 is divisible by 3\n",
      "36 is not divisible by 3\n",
      "32 is divisible by 3\n",
      "29 is divisible by 3\n",
      "18 is not divisible by 3\n",
      "95 is divisible by 3\n",
      "14 is divisible by 3\n",
      "87 is not divisible by 3\n",
      "95 is divisible by 3\n",
      "70 is divisible by 3\n",
      "12 is not divisible by 3\n",
      "76 is divisible by 3\n",
      "55 is divisible by 3\n",
      "5 is divisible by 3\n",
      "4 is divisible by 3\n",
      "12 is not divisible by 3\n",
      "28 is divisible by 3\n",
      "30 is not divisible by 3\n",
      "65 is divisible by 3\n",
      "78 is not divisible by 3\n",
      "4 is divisible by 3\n",
      "72 is not divisible by 3\n"
     ]
    }
   ],
   "source": [
    "import random\n",
    "random.seed(42)\n",
    "random_list=[]\n",
    "for _ in range(25):\n",
    "    x=random.randint(1,100)\n",
    "    random_list.append(x)\n",
    "for i in random_list:\n",
    "    if i%3:\n",
    "        print(f\"{i} is divisible by 3\")\n",
    "    else:\n",
    "        print(f\"{i} is not divisible by 3\")"
   ]
  },
  {
   "cell_type": "markdown",
   "id": "03c98fc1",
   "metadata": {},
   "source": [
    " Q7. What do you understand about mutable and immutable data types? Give examples for both showing this property."
   ]
  },
  {
   "cell_type": "code",
   "execution_count": 8,
   "id": "8f2f1856",
   "metadata": {},
   "outputs": [
    {
     "name": "stdout",
     "output_type": "stream",
     "text": [
      "[1, 2, 3]\n",
      "[1, 5, 3]\n"
     ]
    },
    {
     "ename": "TypeError",
     "evalue": "'tuple' object does not support item assignment",
     "output_type": "error",
     "traceback": [
      "\u001b[1;31m---------------------------------------------------------------------------\u001b[0m",
      "\u001b[1;31mTypeError\u001b[0m                                 Traceback (most recent call last)",
      "Cell \u001b[1;32mIn[8], line 9\u001b[0m\n\u001b[0;32m      7\u001b[0m \u001b[38;5;66;03m#IMMUTABLE: when you can not change the data even after once it created\u001b[39;00m\n\u001b[0;32m      8\u001b[0m li\u001b[38;5;241m=\u001b[39m(\u001b[38;5;241m1\u001b[39m, \u001b[38;5;241m2\u001b[39m, \u001b[38;5;241m3\u001b[39m, \u001b[38;5;241m4\u001b[39m, \u001b[38;5;241m5\u001b[39m)\n\u001b[1;32m----> 9\u001b[0m \u001b[43mli\u001b[49m\u001b[43m[\u001b[49m\u001b[38;5;241;43m0\u001b[39;49m\u001b[43m]\u001b[49m\u001b[38;5;241m=\u001b[39m\u001b[38;5;241m9\u001b[39m\n\u001b[0;32m     10\u001b[0m \u001b[38;5;28mprint\u001b[39m(li) \u001b[38;5;66;03m# here we get error\u001b[39;00m\n",
      "\u001b[1;31mTypeError\u001b[0m: 'tuple' object does not support item assignment"
     ]
    }
   ],
   "source": [
    "#MUTABLE: when you can change the data even after once it created\n",
    "li = [1, 2, 3]\n",
    "print(li)  \n",
    "li[1] = 5\n",
    "print(li)  \n",
    "\n",
    "#IMMUTABLE: when you can not change the data even after once it created\n",
    "li=(1, 2, 3, 4, 5)\n",
    "li[0]=9\n",
    "print(li) # here we get error"
   ]
  }
 ],
 "metadata": {
  "kernelspec": {
   "display_name": "Python 3 (ipykernel)",
   "language": "python",
   "name": "python3"
  },
  "language_info": {
   "codemirror_mode": {
    "name": "ipython",
    "version": 3
   },
   "file_extension": ".py",
   "mimetype": "text/x-python",
   "name": "python",
   "nbconvert_exporter": "python",
   "pygments_lexer": "ipython3",
   "version": "3.11.4"
  }
 },
 "nbformat": 4,
 "nbformat_minor": 5
}
