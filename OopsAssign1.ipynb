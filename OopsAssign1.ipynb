{
 "cells": [
  {
   "cell_type": "markdown",
   "metadata": {},
   "source": [
    "**Q1. Explain Class and Object with respect to Object-Oriented Programming. Give a suitable example.**"
   ]
  },
  {
   "cell_type": "markdown",
   "metadata": {},
   "source": [
    "**Class** : A class is a blueprint of an object. It contain attribute(data) and methords(funtions) which define object property.\n",
    "\n",
    "**Object** : A object is an instance of a class. it is concreate representation of a class."
   ]
  },
  {
   "cell_type": "code",
   "execution_count": 2,
   "metadata": {},
   "outputs": [
    {
     "data": {
      "text/plain": [
       "'Welcome to class car:)'"
      ]
     },
     "execution_count": 2,
     "metadata": {},
     "output_type": "execute_result"
    }
   ],
   "source": [
    "class car:\n",
    "    def __init__(self, col, speed):\n",
    "        self.color=col\n",
    "        self.speed=speed\n",
    "    \n",
    "    def welcome(self):\n",
    "        return \"Welcome to class car:)\"\n",
    "\n",
    "c1= car(\"red\",200)\n",
    "c1.welcome()"
   ]
  },
  {
   "cell_type": "markdown",
   "metadata": {},
   "source": [
    "**Q2. Name the four pillars of OOPs.**"
   ]
  },
  {
   "cell_type": "markdown",
   "metadata": {},
   "source": [
    "**The four pillars of OOPs are**\n",
    "\n",
    "1.encapsulation : Hiding internal implications using modifiers like public, private\n",
    "\n",
    "2.polymorphism : Polymorphism refers to the ability of different classes to be treated as instances of the same class through a common interface. It allows objects of different classes to be used interchangeably, as long as they implement the same methods or have a common base class.\n",
    "\n",
    "3.abstraction  : Showing only useful info or data to the users.\n",
    "\n",
    "4.Inheritance : geeting data and methords from another class, in short, inherit another class property"
   ]
  },
  {
   "cell_type": "markdown",
   "metadata": {},
   "source": [
    "**Q3. Explain why the __init__() function is used. Give a suitable example.**"
   ]
  },
  {
   "cell_type": "markdown",
   "metadata": {},
   "source": [
    "This is a special funtion in python, it called during instansiate of an object. It is often used to set a initial value of an object."
   ]
  },
  {
   "cell_type": "code",
   "execution_count": 4,
   "metadata": {},
   "outputs": [
    {
     "name": "stdout",
     "output_type": "stream",
     "text": [
      "color of a car: red\n",
      "Speed of a car: 200\n"
     ]
    }
   ],
   "source": [
    "class car:\n",
    "    def __init__(self, col, speed):\n",
    "        self.color=col\n",
    "        self.speed=speed\n",
    "    \n",
    "    def welcome(self):\n",
    "        return \"Welcome to class car:)\"\n",
    "\n",
    "c1= car(\"red\",200)\n",
    "print(\"color of a car: \"+ c1.color)\n",
    "print(\"Speed of a car: \"+ str(c1.speed))"
   ]
  },
  {
   "cell_type": "markdown",
   "metadata": {},
   "source": [
    "**Q4. Why self is used in OOPs?**"
   ]
  },
  {
   "cell_type": "markdown",
   "metadata": {},
   "source": [
    "In Python, the self keyword is used as a reference to the instance of the class. It's a convention, not a keyword enforced by the language"
   ]
  },
  {
   "cell_type": "markdown",
   "metadata": {},
   "source": [
    "**Q5. What is inheritance? Give an example for each type of inheritance.**"
   ]
  },
  {
   "cell_type": "markdown",
   "metadata": {},
   "source": [
    "There ar 5 different type of inheritance available:\n",
    "\n",
    "1.single inheritance: when one class inherit only one other class.\n",
    "\n",
    "2.multilevel inheritance: When a class inherits from another class that is itself inherited from another class.\n",
    "\n",
    "3.multiple inheritance: When a class inherits from two or more other classes.\n",
    "\n",
    "4.hierarchical inheritance: When there is a single parent class and multiple child classes.\n",
    " \n",
    "5.hybrid inheritance: When a class inherits from multiple classes in a way that is not a single hierarchy."
   ]
  },
  {
   "cell_type": "code",
   "execution_count": 13,
   "metadata": {},
   "outputs": [
    {
     "name": "stdout",
     "output_type": "stream",
     "text": [
      "welcome to parent class\n",
      "------------------\n",
      "Driving a vehicle\n",
      "Car started\n",
      "Charging the electric car\n",
      "------------------\n",
      "Method A\n",
      "Method B\n",
      "Method C\n",
      "------------------\n",
      "Dog barks\n",
      "Cat meows\n",
      "------------------\n",
      "Method A\n",
      "Method B\n",
      "Method C\n",
      "Method D\n",
      "------------------\n"
     ]
    }
   ],
   "source": [
    "#Single inheritance\n",
    "class parent:\n",
    "    def __init__(self):\n",
    "        print(\"welcome to parent class\")\n",
    "class child1(parent):\n",
    "    def __init__(self):\n",
    "        print(\"welcome to parent 1 class\")\n",
    "child1=parent()\n",
    "print(\"------------------\")\n",
    "#multilevel inheritance\n",
    "class Vehicle:\n",
    "    def drive(self):\n",
    "        print(\"Driving a vehicle\")\n",
    "\n",
    "class Car(Vehicle):\n",
    "    def start(self):\n",
    "        print(\"Car started\")\n",
    "\n",
    "class ElectricCar(Car):\n",
    "    def charge(self):\n",
    "        print(\"Charging the electric car\")\n",
    "\n",
    "electric_car = ElectricCar()\n",
    "electric_car.drive()   \n",
    "electric_car.start()   \n",
    "electric_car.charge()  \n",
    "print(\"------------------\")\n",
    "#multiple\n",
    "class A:\n",
    "    def method_a(self):\n",
    "        print(\"Method A\")\n",
    "\n",
    "class B:\n",
    "    def method_b(self):\n",
    "        print(\"Method B\")\n",
    "\n",
    "class C(A, B):\n",
    "    def method_c(self):\n",
    "        print(\"Method C\")\n",
    "\n",
    "instance_c = C()\n",
    "instance_c.method_a() \n",
    "instance_c.method_b() \n",
    "instance_c.method_c() \n",
    "print(\"------------------\")\n",
    "class Animal:\n",
    "    def speak(self):\n",
    "        pass\n",
    "\n",
    "class Dog(Animal):\n",
    "    def speak(self):\n",
    "        print(\"Dog barks\")\n",
    "\n",
    "class Cat(Animal):\n",
    "    def speak(self):\n",
    "        print(\"Cat meows\")\n",
    "\n",
    "dog = Dog()\n",
    "cat = Cat()\n",
    "\n",
    "dog.speak() \n",
    "cat.speak() \n",
    "print(\"------------------\")\n",
    "#hybrid\n",
    "class A:\n",
    "    def method_a(self):\n",
    "        print(\"Method A\")\n",
    "\n",
    "class B(A):\n",
    "    def method_b(self):\n",
    "        print(\"Method B\")\n",
    "\n",
    "class C(A):\n",
    "    def method_c(self):\n",
    "        print(\"Method C\")\n",
    "\n",
    "class D(B, C):\n",
    "    def method_d(self):\n",
    "        print(\"Method D\")\n",
    "\n",
    "instance_d = D()\n",
    "instance_d.method_a() \n",
    "instance_d.method_b() \n",
    "instance_d.method_c() \n",
    "instance_d.method_d() \n",
    "print(\"------------------\")"
   ]
  }
 ],
 "metadata": {
  "kernelspec": {
   "display_name": "Python 3",
   "language": "python",
   "name": "python3"
  },
  "language_info": {
   "codemirror_mode": {
    "name": "ipython",
    "version": 3
   },
   "file_extension": ".py",
   "mimetype": "text/x-python",
   "name": "python",
   "nbconvert_exporter": "python",
   "pygments_lexer": "ipython3",
   "version": "3.11.3"
  },
  "orig_nbformat": 4
 },
 "nbformat": 4,
 "nbformat_minor": 2
}
